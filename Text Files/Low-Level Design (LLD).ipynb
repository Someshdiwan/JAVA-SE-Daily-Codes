{
 "cells": [
  {
   "cell_type": "code",
   "execution_count": 12,
   "id": "f7a7b9fa-a5b7-4d1e-a472-c9151584618e",
   "metadata": {},
   "outputs": [
    {
     "name": "stdout",
     "output_type": "stream",
     "text": [
      "X|O|X\n",
      "---------\n",
      "O|X|O\n",
      "---------\n",
      "X|X|O\n",
      "---------\n",
      "X is the winner: True\n"
     ]
    }
   ],
   "source": [
    "# 1. Tic-Tac-Toe Board Printing\n",
    "def print_board(board):\n",
    "    for row in board:\n",
    "        print(\"|\".join(row))\n",
    "        print(\"-\" * 9)\n",
    "\n",
    "def check_winner(board, player):\n",
    "    # Check rows\n",
    "    for row in board:\n",
    "        if all(cell == player for cell in row):\n",
    "            return True\n",
    "\n",
    "    # Check columns\n",
    "    for col in range(3):\n",
    "        if all(board[row][col] == player for row in range(3)):\n",
    "            return True\n",
    "\n",
    "    # Check diagonals\n",
    "    if all(board[i][i] == player for i in range(3)) or all(board[i][2 - i] == player for i in range(3)):\n",
    "        return True\n",
    "\n",
    "    return False\n",
    "\n",
    "# Example usage:\n",
    "board = [[\"X\", \"O\", \"X\"], [\"O\", \"X\", \"O\"], [\"X\", \"X\", \"O\"]]\n",
    "print_board(board)\n",
    "print(\"X is the winner:\", check_winner(board, \"X\"))\n",
    "\n",
    "# The check_winner function correctly checks rows and columns for a winner but does not check diagonals."
   ]
  },
  {
   "cell_type": "code",
   "execution_count": 14,
   "id": "03ce8896-7151-4734-9510-207356261f37",
   "metadata": {},
   "outputs": [
    {
     "name": "stdout",
     "output_type": "stream",
     "text": [
      "Welcome to 'Guess the Number'!\n",
      "The system is thinking of a number between 1 and 20.\n"
     ]
    },
    {
     "name": "stdin",
     "output_type": "stream",
     "text": [
      "Take a guess:  5\n"
     ]
    },
    {
     "name": "stdout",
     "output_type": "stream",
     "text": [
      "Too high!\n"
     ]
    },
    {
     "name": "stdin",
     "output_type": "stream",
     "text": [
      "Take a guess:  8\n"
     ]
    },
    {
     "name": "stdout",
     "output_type": "stream",
     "text": [
      "Too high!\n"
     ]
    },
    {
     "name": "stdin",
     "output_type": "stream",
     "text": [
      "Take a guess:  15\n"
     ]
    },
    {
     "name": "stdout",
     "output_type": "stream",
     "text": [
      "Too high!\n"
     ]
    },
    {
     "name": "stdin",
     "output_type": "stream",
     "text": [
      "Take a guess:  9\n"
     ]
    },
    {
     "name": "stdout",
     "output_type": "stream",
     "text": [
      "Too high!\n"
     ]
    },
    {
     "name": "stdin",
     "output_type": "stream",
     "text": [
      "Take a guess:  6\n"
     ]
    },
    {
     "name": "stdout",
     "output_type": "stream",
     "text": [
      "Too high!\n",
      "Sorry, the number was 2. Better luck next time!\n"
     ]
    }
   ],
   "source": [
    "# 2. Guess the Number Game\n",
    "import random\n",
    "\n",
    "def guess_the():\n",
    "    secret_no = random.randint(1, 20)\n",
    "    attempts = 0\n",
    "    max_attempts = 5\n",
    "    print(\"Welcome to 'Guess the Number'!\")\n",
    "    print(\"The system is thinking of a number between 1 and 20.\")\n",
    "\n",
    "    while attempts < max_attempts:\n",
    "        guess = int(input(\"Take a guess: \"))\n",
    "        attempts += 1\n",
    "\n",
    "        if guess < secret_no:\n",
    "            print(\"Too low!\")\n",
    "        elif guess > secret_no:\n",
    "            print(\"Too high!\")\n",
    "        else:\n",
    "            print(f\"Congratulations! You guessed the number {secret_no} in {attempts} attempts.\")\n",
    "            break\n",
    "\n",
    "    if attempts == max_attempts:\n",
    "        print(f\"Sorry, the number was {secret_no}. Better luck next time!\")\n",
    "\n",
    "guess_the()\n"
   ]
  },
  {
   "cell_type": "code",
   "execution_count": 16,
   "id": "522b0ced-ca45-48fe-8363-9a58e8e4b70e",
   "metadata": {},
   "outputs": [
    {
     "name": "stdout",
     "output_type": "stream",
     "text": [
      "Welcome to Rock-Paper-Scissors!\n"
     ]
    },
    {
     "name": "stdin",
     "output_type": "stream",
     "text": [
      "Enter your choice (rock, paper, scissors):  rock\n"
     ]
    },
    {
     "name": "stdout",
     "output_type": "stream",
     "text": [
      "Computer chose: scissors\n",
      "You won!\n"
     ]
    },
    {
     "name": "stdin",
     "output_type": "stream",
     "text": [
      "Enter your choice (rock, paper, scissors):  paper\n"
     ]
    },
    {
     "name": "stdout",
     "output_type": "stream",
     "text": [
      "Computer chose: paper\n",
      "It's a tie!\n"
     ]
    },
    {
     "name": "stdin",
     "output_type": "stream",
     "text": [
      "Enter your choice (rock, paper, scissors):  Scissors\n"
     ]
    },
    {
     "name": "stdout",
     "output_type": "stream",
     "text": [
      "Computer chose: paper\n",
      "You won!\n"
     ]
    },
    {
     "name": "stdin",
     "output_type": "stream",
     "text": [
      "Enter your choice (rock, paper, scissors):  Rock\n"
     ]
    },
    {
     "name": "stdout",
     "output_type": "stream",
     "text": [
      "Computer chose: rock\n",
      "It's a tie!\n"
     ]
    },
    {
     "name": "stdin",
     "output_type": "stream",
     "text": [
      "Enter your choice (rock, paper, scissors):  paper\n"
     ]
    },
    {
     "name": "stdout",
     "output_type": "stream",
     "text": [
      "Computer chose: rock\n",
      "You won!\n"
     ]
    }
   ],
   "source": [
    "#3. Rock-Paper-Scissors Game\n",
    "import random\n",
    "\n",
    "def rock_paper_scissors():\n",
    "    max_rounds = 5\n",
    "    choices = [\"rock\", \"paper\", \"scissors\"]\n",
    "    round_no = 0\n",
    "\n",
    "    print(\"Welcome to Rock-Paper-Scissors!\")\n",
    "    while round_no < max_rounds:\n",
    "        com_choice = random.choice(choices)\n",
    "        player_choice = input(\"Enter your choice (rock, paper, scissors): \").lower()\n",
    "        round_no += 1\n",
    "\n",
    "        if player_choice not in choices:\n",
    "            print(\"Invalid choice. Please choose rock, paper, or scissors.\")\n",
    "            continue\n",
    "\n",
    "        print(f\"Computer chose: {com_choice}\")\n",
    "        if player_choice == com_choice:\n",
    "            print(\"It's a tie!\")\n",
    "        elif (player_choice == \"rock\" and com_choice == \"scissors\") or \\\n",
    "             (player_choice == \"paper\" and com_choice == \"rock\") or \\\n",
    "             (player_choice == \"scissors\" and com_choice == \"paper\"):\n",
    "            print(\"You won!\")\n",
    "        else:\n",
    "            print(\"Computer won!\")\n",
    "\n",
    "rock_paper_scissors()\n"
   ]
  },
  {
   "cell_type": "code",
   "execution_count": 18,
   "id": "8f2bf6bf-f51e-432b-936f-1958bffeaada",
   "metadata": {},
   "outputs": [
    {
     "name": "stdout",
     "output_type": "stream",
     "text": [
      "My favorite game is Rock-Paper-Scissors, and I score more than 50!\n",
      "My name is Grok\n"
     ]
    }
   ],
   "source": [
    "# 4. AI Introduction\n",
    "def ai():\n",
    "    score = 50\n",
    "    game = \"Rock-Paper-Scissors\"\n",
    "    print(f\"My favorite game is {game}, and I score more than {score}!\")\n",
    "    print(\"My name is Grok\")\n",
    "\n",
    "ai()\n"
   ]
  },
  {
   "cell_type": "code",
   "execution_count": null,
   "id": "e0748b13-1213-4b94-9458-80e90402de4d",
   "metadata": {},
   "outputs": [],
   "source": [
    "Tic-Tac-Toe:\n",
    "\n",
    "print_board: Logic to display the board.\n",
    "check_winner: Logic to evaluate game rules.\n",
    "This would be LLD for a \"Tic-Tac-Toe\" module.\n",
    "Guess the Number:\n",
    "\n",
    "Function for gameplay, handling user input, and comparing guesses.\n",
    "This would be part of LLD for a \"Guess the Number\" game.\n",
    "Rock-Paper-Scissors:\n",
    "\n",
    "Game loop and rules implementation.\n",
    "LLD for a \"Rock-Paper-Scissors\" module.\n",
    "AI Introduction Function:\n",
    "\n",
    "Its a simple standalone feature with minimal logic. It's part of LLD but doesn’t involve much design complexity.\n",
    "\n",
    "Whats Above Low-Level Design?\n",
    "\n",
    "If youre referring to the next step above LLD, its typically HLD, where you'd define:\n",
    "\n",
    "Architecture Diagrams: Components of the system and how they interact.\n",
    "Data Flow Diagrams: How data moves between components.\n",
    "APIs or Interfaces: How different modules communicate.\n",
    "Technology Choices: Languages, frameworks, databases, etc"
   ]
  }
 ],
 "metadata": {
  "kernelspec": {
   "display_name": "Python 3 (ipykernel)",
   "language": "python",
   "name": "python3"
  },
  "language_info": {
   "codemirror_mode": {
    "name": "ipython",
    "version": 3
   },
   "file_extension": ".py",
   "mimetype": "text/x-python",
   "name": "python",
   "nbconvert_exporter": "python",
   "pygments_lexer": "ipython3",
   "version": "3.12.7"
  }
 },
 "nbformat": 4,
 "nbformat_minor": 5
}
